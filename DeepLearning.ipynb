{
 "cells": [
  {
   "cell_type": "markdown",
   "metadata": {},
   "source": [
    "# Apprentissage Automatique : BE 2 "
   ]
  },
  {
   "cell_type": "markdown",
   "metadata": {},
   "source": [
    "## Premier apprentissage"
   ]
  },
  {
   "cell_type": "code",
   "execution_count": 1,
   "metadata": {},
   "outputs": [],
   "source": [
    "import numpy as np\n",
    "import random\n",
    "# from mnist import MNIST\n",
    "from tqdm import tqdm\n",
    "import matplotlib.pyplot as plt\n"
   ]
  },
  {
   "cell_type": "code",
   "execution_count": 2,
   "metadata": {},
   "outputs": [],
   "source": [
    "def forwardPass(X, W, b):\n",
    "    I = X.dot(W)+b\n",
    "    O = 1/(1+np.exp(-I))\n",
    "    return (O)"
   ]
  },
  {
   "cell_type": "code",
   "execution_count": 3,
   "metadata": {},
   "outputs": [],
   "source": [
    "def backwardPass(X, Y, e, W, b, lr):\n",
    "    new_W = W + (lr*Y*(1-Y)*e) * X.T\n",
    "    new_b = b + (lr*Y*(1-Y)*e)\n",
    "    new_e = e*W\n",
    "    return new_W, new_b, new_e"
   ]
  },
  {
   "cell_type": "code",
   "execution_count": 4,
   "metadata": {},
   "outputs": [],
   "source": [
    "def printLoss(ii,lLoss,gt,guess):\n",
    "    if not ii%250:\n",
    "        lLoss.append(np.square(gt -guess).sum() / 2)\n",
    "    return lLoss"
   ]
  },
  {
   "cell_type": "code",
   "execution_count": 5,
   "metadata": {},
   "outputs": [],
   "source": [
    "def sigmoidDiff(Y):\n",
    "    return Y*(1-Y)"
   ]
  },
  {
   "cell_type": "code",
   "execution_count": 6,
   "metadata": {},
   "outputs": [],
   "source": [
    "def declareLayer(w,h):\n",
    "    W = 2 * np.random.random((w,h)) - 1\n",
    "    b = np.zeros((1, h))\n",
    "    return W,b"
   ]
  },
  {
   "cell_type": "code",
   "execution_count": 7,
   "metadata": {},
   "outputs": [],
   "source": [
    "def updateLayer(delta,I,W,b,lr,bFirstLayer):\n",
    "    new_W = W + lr * I.T.dot(delta)\n",
    "    b+= lr * delta.sum(axis=0)\n",
    "    if not bFirstLayer:\n",
    "        I = lr * delta.dot(W.T)\n",
    "    return new_W,b,I"
   ]
  },
  {
   "cell_type": "code",
   "execution_count": 8,
   "metadata": {},
   "outputs": [],
   "source": [
    "def backProgHiddenLayer(sup_delta,sup_W,O):\n",
    "    error=sup_delta.dot(sup_W.T)\n",
    "    delta=error*sigmoidDiff(O1)\n",
    "    return error,delta"
   ]
  },
  {
   "cell_type": "code",
   "execution_count": 9,
   "metadata": {},
   "outputs": [],
   "source": [
    "def backProgLastLayer(Y,Y_pred):\n",
    "    error=Y-Y_pred\n",
    "    delta=error*sigmoidDiff(Y_pred)\n",
    "    return error,delta"
   ]
  },
  {
   "cell_type": "code",
   "execution_count": 10,
   "metadata": {},
   "outputs": [],
   "source": [
    "np.random.seed(1) # pour que l'exécution soit déterministe\n",
    "\n",
    "# N est le nombre de données d'entrée\n",
    "# D_in est la dimension des données d'entrée\n",
    "# D_h le nombre de neurones de la couche cachée\n",
    "# D_out est la dimension de sortie (nombre de neurones de la couche de sortie\n",
    "\n",
    "N, D_in, D_h, D_out = 30, 2, 10, 3\n",
    "lr = 0.01 # learning rate\n"
   ]
  },
  {
   "cell_type": "code",
   "execution_count": 12,
   "metadata": {},
   "outputs": [
    {
     "name": "stderr",
     "output_type": "stream",
     "text": [
      "Learning...: 100%|██████████| 100000/100000 [00:05<00:00, 17232.30it/s]"
     ]
    },
    {
     "name": "stdout",
     "output_type": "stream",
     "text": [
      "Done !\n",
      "Results : \n",
      "[4.668071349518289, 4.161800869302836, 4.05948827147756, 3.9782055806013092, 3.912549221186062, 3.859230103990488, 3.815762380899192, 3.7801706872526046, 3.75096458262496, 3.7270707521108384, 3.7076899777891024, 3.692152489362202, 3.6798314498816254, 3.670122330071677, 3.6624616125332037, 3.6563540012556097, 3.6513898172208132, 3.647248003973922, 3.6436880435540977, 3.640536203218879, 3.637670557164377, 3.6350074127836463, 3.6324902390725033, 3.6300812379099794, 3.627755232151887, 3.625495390869838, 3.6232903217188994, 3.6211321368208558, 3.6190151896916674, 3.616935263188762, 3.614889054451912, 3.612873852056886, 3.6108873356890236, 3.6089274528323796, 3.6069923432310653, 3.605080292593407, 3.603189703951513, 3.6013190795224035, 3.5994670087121077, 3.5976321596456, 3.5958132726780305, 3.594009154995668, 3.5922186758074908, 3.5904407618609895, 3.5886743931510665, 3.58691859876786, 3.5851724528713884, 3.583435070802731, 3.5817056053514627, 3.5799832432024945, 3.5782672015852848, 3.576556725146276, 3.5748510830624447, 3.5731495664103736, 3.5714514858017625, 3.5697561692926447, 3.5680629605701006, 3.5663712174166946, 3.5646803104494027, 3.56298962212634, 3.5612985460111197, 3.5596064862812495, 3.5579128574635597, 3.556217084376288, 3.554518602254213, 3.552816857030147, 3.5511113057432864, 3.549401417042417, 3.547686671750013, 3.54596656345176, 3.544240599075384, 3.5425082994226873, 3.540769199619744, 3.5390228494522074, 3.537268813555763, 3.5355066714358903, 3.5337360172962926, 3.5319564596614073, 3.5301676207853405, 3.5283691358470137, 3.526560651939087, 3.5247418268661024, 3.522912327774778, 3.521071829646419, 3.5192200136874248, 3.517356565658777, 3.515481174188906, 3.51359352911624, 3.5116933199080824, 3.5097802342011013, 3.5078539565058526, 3.5059141671134273, 3.5039605412368657, 3.5019927484135307, 3.5000104521876056, 3.4980133100844686, 3.496000973881283, 3.49397309017093, 3.4919293012096655, 3.489869246032808, 3.487792561817446, 3.485698885466739, 3.4835878553868804, 3.4814591134251978, 3.479312306936124, 3.477147090940864, 3.4749631303463855, 3.4727601021897425, 3.4705376978747084, 3.468295625369047, 3.4660336113323997, 3.4637514031467904, 3.4614487708238237, 3.4591255087649477, 3.456781437353565, 3.4544164043601477, 3.4520302861440566, 3.449622988638233, 3.4471944481054666, 3.4447446316574437, 3.442273537530283, 3.4397811951127206, 3.437267664725517, 3.4347330371529936, 3.4321774329298393, 3.4296010013884577, 3.427003919474083, 3.4243863903366973, 3.4217486417104173, 3.419090924092392, 3.4164135087344896, 3.413716685461975, 3.4110007603342005, 3.4082660531627984, 3.405512894903287, 3.4027416249360924, 3.3999525882530586, 3.3971461325653203, 3.3943226053481874, 3.3914823508383303, 3.3886257069980976, 3.3857530024612688, 3.382864553474015, 3.3799606608441386, 3.377041606910996, 3.3741076525477585, 3.371159034206817, 3.3681959610182592, 3.365218611950387, 3.36222713304021, 3.359221634700709, 3.3562021891105394, 3.3531688276905216, 3.3501215386700283, 3.347060264744954, 3.3439849008276172, 3.3408952918874575, 3.3377912308800126, 3.3346724567601775, 3.331538652574342, 3.3283894436245993, 3.3252243956968424, 3.322043013343233, 3.318844738208297, 3.3156289473866583, 3.31239495179935, 3.3091419945746314, 3.305869249418346, 3.3025758189581618, 3.2992607330455006, 3.295922946998674, 3.2925613397707325, 3.2891747120259023, 3.285761784109261, 3.282321193895553, 3.2788514945049845, 3.275351151876417, 3.271818542191851, 3.2682519491505264, 3.264649561096544, 3.26100946801081, 3.257329658386422, 3.2536080160166585, 3.249842316736535, 3.2460302251727, 3.242169291572379, 3.2382569488001685, 3.234290509611801, 3.230267164336425, 3.2261839791231655, 3.2220378949334094, 3.2178257274865483, 3.2135441683929256, 3.2091897877319417, 3.2047590383539455, 3.2002482621993016, 3.1956536989341515, 3.1909714971967444, 3.186197728727294, 3.1813284056147313, 3.1763595008323833, 3.1712869721491606, 3.166106789392654, 3.1608149649069075, 3.1554075868950293, 3.1498808551729707, 3.1442311186972796, 3.1384549140813682, 3.132549004199148, 3.1265104159093005, 3.1203364759336027, 3.1140248439982385, 3.1075735424992685, 3.1009809821725147, 3.094245983512702, 3.087367793965586, 3.0803461011732702, 3.0731810427510893, 3.0658732131861894, 3.058423668459079, 3.050833928903023, 3.043105980652014, 3.0352422758186, 3.0272457313258956, 3.0191197261293548, 3.0108680964298884, 3.00249512841468, 2.9940055480664225, 2.9854045076455864, 2.976697568557209, 2.9678906804447016, 2.958990156491067, 2.9500026450392194, 2.940935097758961, 2.931794734684194, 2.9225890065191313, 2.9133255546676966, 2.904012169478456, 2.8946567472207936, 2.8852672463191085, 2.875851643372553, 2.86641788947972, 2.856973867371731, 2.8475273498342184, 2.8380859598693475, 2.8286571330137056, 2.8192480821875123, 2.8098657654055077, 2.800516856631168, 2.7912077200042984, 2.7819443876185397, 2.772732540970938, 2.7635774961513744, 2.7544841927862933, 2.7454571866996287, 2.736500646204881, 2.727618351896482, 2.7188136997665926, 2.7100897074354124, 2.701449023249507, 2.6928939379736114, 2.684426398776971, 2.676048025195774, 2.6677601267385103, 2.6595637217913777, 2.6514595574762163, 2.6434481301139456, 2.635529705952279, 2.627704341827757, 2.619971905448802, 2.612332095008679, 2.6047844578647887, 2.597328408053305, 2.5899632424453625, 2.582688155392079, 2.5755022517498287, 2.5684045582230794, 2.5613940330086553, 2.554469573770866, 2.547630024020227, 2.5408741780078152, 2.5342007842815746, 2.527608548078629, 2.5210961327483514, 2.51466216041373, 2.508305212083597, 2.5020238274254973, 2.495816504399168, 2.489681698934504, 2.483617824816747, 2.4776232539166068, 2.4716963168756165, 2.465835304328457, 2.4600384687155468, 2.4543040267121308, 2.4486301622750193, 2.443015030286172, 2.4374567607535016, 2.4319534635141893, 2.4265032333743846, 2.4211041556112103, 2.415754311758442, 2.41045178559559, 2.4051946692609634, 2.3999810694123354, 2.394809113363375, 2.389676955129838, 2.3845827813260865, 2.379524816859464, 2.374501330377195, 2.3695106394274235, 2.3645511153025884, 2.359621187539506, 2.3547193480560416, 2.3498441549091638, 2.3449942356634406, 2.3401682903626706, 2.335365094100388, 2.3305834991875223, 2.325822436917567, 2.321080918931391, 2.3163580381852324, 2.311652969526772, 2.3069649698853283, 2.3022933780833834, 2.29763761427784, 2.292997179040673, 2.288371652089983, 2.2837606906839585, 2.279164027691867, 2.274581469357868, 2.2700128927752794, 2.2654582430907233, 2.260917530459447, 2.256390826774866, 2.251878262197104, 2.2473800215067787, 2.2428963403116255, 2.2384275011346157, 2.2339738294129394, 2.229535689437696, 2.2251134802641794, 2.2207076316223153, 2.2163185998561894, 2.2119468639204802, 2.2075929214602796, 2.2032572849989895, 2.198940478257043, 2.1946430326218294, 2.1903654837868163, 2.1861083685751734, 2.1818722219604894, 2.177657574294362, 2.1734649487478994, 2.1692948589713907, 2.1651478069737697, 2.1610242812210285, 2.156924754950369, 2.1528496846947784, 2.148799509010824, 2.144774647400802, 2.1407754994190094, 2.1368024439507605, 2.132855838651936, 2.128936019536229, 2.1250433006969267, 2.12117797414991, 2.117340309784687, 2.1135305554105357, 2.10974893688531, 2.1059956583150616, 2.1022709023133475, 2.098574830309951, 2.094907582899604, 2.091269280222253, 2.087660022367402, 2.0840798897959942, 2.080528943774314, 2.077007226815243, 2.073514763123153, 2.0700515590395017, 2.06661760348697, 2.0632128684106377, 2.059837309215337, 2.056490865198785, 2.0531734599805853, 2.0498850019275023, 2.046625384575705, 2.0433944870508687, 2.0401921744871445, 2.0370182984460827, 2.0338726973365997, 2.0307551968370143, 2.0276656103201316, 2.024603739282202, 2.021569373776451, 2.0185622928517057, 2.015582264996455, 2.0126290485885368, 2.0097023923503783]\n"
     ]
    },
    {
     "name": "stderr",
     "output_type": "stream",
     "text": [
      "\n"
     ]
    }
   ],
   "source": [
    "np.random.seed(1)\n",
    "lLoss=[]\n",
    "\n",
    "X = np.random.random((N, D_in))\n",
    "Y = np.random.random((N, D_out))\n",
    "\n",
    "\n",
    "'''Initialisation aléatoire des poids du réseau'''\n",
    "W1,b1=declareLayer(D_in,D_h)\n",
    "W2,b2=declareLayer(D_h,D_out)\n",
    "\n",
    "''' Learning '''\n",
    "\n",
    "for ii in tqdm(range(100000),desc='Learning...'):\n",
    "    pass\n",
    "    '''Forward '''\n",
    "    O1 = forwardPass(X,W1,b1)\n",
    "    O2 = forwardPass(O1,W2,b2)\n",
    "    Y_pred = O2\n",
    "    \n",
    "    lLoss=printLoss(ii,lLoss,Y,Y_pred)\n",
    "\n",
    "    ''' Backprog ''' \n",
    "    l2_error,l2_delta=backProgLastLayer(Y,Y_pred)\n",
    "    l1_error,l1_delta=backProgHiddenLayer(l2_delta,W2,O1)\n",
    "\n",
    "    W2,b2,O1=updateLayer(l2_delta,O1,W2,b2,lr,bFirstLayer=False)\n",
    "    W1,b1,X=updateLayer(l1_delta,X,W1,b1,lr,bFirstLayer=True)\n",
    "    \n",
    "print('Done !')\n",
    "\n",
    "print(\"Results : \")"
   ]
  },
  {
   "cell_type": "code",
   "execution_count": 16,
   "metadata": {},
   "outputs": [
    {
     "data": {
      "image/png": "[encoded data removed]",
      "text/plain": [
       "<matplotlib.figure.Figure at 0x7f6d25d5ac88>"
      ]
     },
     "metadata": {},
     "output_type": "display_data"
    }
   ],
   "source": [
    "plt.figure()\n",
    "plt.plot(lLoss)\n",
    "plt.grid(True)\n",
    "plt.show()"
   ]
  },
  {
   "cell_type": "markdown",
   "metadata": {},
   "source": [
    "## MNIST\n",
    "\n"
   ]
  },
  {
   "cell_type": "markdown",
   "metadata": {},
   "source": [
    "### Loading data"
   ]
  },
  {
   "cell_type": "code",
   "execution_count": 17,
   "metadata": {},
   "outputs": [],
   "source": [
    "from mnist import MNIST\n",
    "mdata = MNIST('MNIST-data')\n",
    "DataApp, LabelApp = mdata.load_training()\n",
    "DataTest, LabelTest = mdata.load_testing()"
   ]
  },
  {
   "cell_type": "code",
   "execution_count": 18,
   "metadata": {},
   "outputs": [],
   "source": [
    "DataApp=np.asarray(DataApp)\n",
    "LabelApp=np.asarray(LabelApp)\n",
    "DataTest=np.asarray(DataTest)\n",
    "LabelTest=np.asarray(LabelTest)"
   ]
  },
  {
   "cell_type": "code",
   "execution_count": 19,
   "metadata": {},
   "outputs": [
    {
     "data": {
      "text/plain": [
       "(60000, 784)"
      ]
     },
     "execution_count": 19,
     "metadata": {},
     "output_type": "execute_result"
    }
   ],
   "source": [
    "DataApp.shape"
   ]
  },
  {
   "cell_type": "code",
   "execution_count": 20,
   "metadata": {},
   "outputs": [],
   "source": [
    "def decoupage_donnees(dataApp,labelApp,ratio):\n",
    "    nr=int(ratio*dataApp.shape[0])\n",
    "    l=list(range(dataApp.shape[0]))\n",
    "    np.random.shuffle(l)\n",
    "\n",
    "    dataLearning=np.asarray([dataApp[l[ii]] for ii in range(nr)])\n",
    "    labelLearning=np.asarray([labelApp[l[ii]] for ii in range(nr)])\n",
    "    dataEval=np.asarray([dataApp[l[ii+nr]] for ii in range(dataApp.shape[0]-nr)])\n",
    "    labelEval=np.asarray([labelApp[l[ii+nr]] for ii in range(dataApp.shape[0]-nr)])\n",
    "    return dataLearning,labelLearning,dataEval,labelEval"
   ]
  },
  {
   "cell_type": "code",
   "execution_count": 21,
   "metadata": {},
   "outputs": [],
   "source": [
    "dataLearning,labelLearning,dataEval,labelEval=decoupage_donnees(DataApp,\n",
    "                                                                LabelApp,\n",
    "                                                                0.99)\n"
   ]
  },
  {
   "cell_type": "code",
   "execution_count": 22,
   "metadata": {},
   "outputs": [
    {
     "data": {
      "text/plain": [
       "600"
      ]
     },
     "execution_count": 22,
     "metadata": {},
     "output_type": "execute_result"
    }
   ],
   "source": [
    "dataEval.shape[0]"
   ]
  },
  {
   "cell_type": "markdown",
   "metadata": {},
   "source": [
    "### Launching learning"
   ]
  },
  {
   "cell_type": "code",
   "execution_count": 23,
   "metadata": {},
   "outputs": [],
   "source": [
    "# N est le nombre de données d'entrée\n",
    "# D_in est la dimension des données d'entrée\n",
    "# D_h le nombre de neurones de la couche cachée\n",
    "# D_out est la dimension de sortie (nombre de neurones de la couche de sortie\n",
    "\n",
    "N=dataEval.shape[0]\n",
    "D_in=dataEval.shape[1]\n",
    "D_h=1000\n",
    "D_out=10\n",
    "lr = 0.01 "
   ]
  },
  {
   "cell_type": "code",
   "execution_count": 24,
   "metadata": {},
   "outputs": [],
   "source": [
    "def makeGT(x):\n",
    "    z=np.zeros(10)\n",
    "    z[x]=1\n",
    "    return z\n",
    "\n",
    "labelEval2=np.asarray(list(map(lambda x : makeGT(x) ,labelEval.tolist()))[0])"
   ]
  },
  {
   "cell_type": "code",
   "execution_count": null,
   "metadata": {},
   "outputs": [
    {
     "name": "stderr",
     "output_type": "stream",
     "text": [
      " 37%|███▋      | 368/1000 [00:45<01:17,  8.16it/s]"
     ]
    }
   ],
   "source": [
    "np.random.seed(1)\n",
    "lLoss=[]\n",
    "\n",
    "X = np.random.random((N, D_in))\n",
    "Y = np.random.random((N, D_out))\n",
    "\n",
    "\n",
    "'''Initialisation aléatoire des poids du réseau'''\n",
    "W1,b1=declareLayer(D_in,D_h)\n",
    "W2,b2=declareLayer(D_h,D_out)\n",
    "\n",
    "''' Learning '''\n",
    "\n",
    "for ii in tqdm(range(1000)):\n",
    "    \n",
    "    '''Forward '''\n",
    "    O1 = forwardPass(X,W1,b1)\n",
    "    O2 = forwardPass(O1,W2,b2)\n",
    "    Y_pred = O2\n",
    "    \n",
    "    #labelFound=np.asarray(list(map(lambda x : x.argmax(axis=0),Y_pred)))\n",
    "    lLoss=printLoss(ii,lLoss,labelEval2,Y_pred)\n",
    "\n",
    "    ''' Backprog ''' \n",
    "    l2_error,l2_delta=backProgLastLayer(labelEval2,Y_pred)\n",
    "    l1_error,l1_delta=backProgHiddenLayer(l2_delta,W2,O1)\n",
    "\n",
    "    W2,b2,O1=updateLayer(l2_delta,O1,W2,b2,lr,bFirstLayer=False)\n",
    "    W1,b1,X=updateLayer(l1_delta,X,W1,b1,lr,bFirstLayer=True)\n",
    "    \n",
    "print('Done !')\n",
    "\n",
    "print(\"Results : \")\n",
    "print(lLoss)"
   ]
  },
  {
   "cell_type": "code",
   "execution_count": null,
   "metadata": {},
   "outputs": [],
   "source": []
  },
  {
   "cell_type": "code",
   "execution_count": null,
   "metadata": {},
   "outputs": [],
   "source": []
  },
  {
   "cell_type": "code",
   "execution_count": null,
   "metadata": {},
   "outputs": [],
   "source": []
  },
  {
   "cell_type": "code",
   "execution_count": null,
   "metadata": {},
   "outputs": [],
   "source": []
  }
 ],
 "metadata": {
  "kernelspec": {
   "display_name": "Python 2",
   "language": "python",
   "name": "python2"
  },
  "language_info": {
   "codemirror_mode": {
    "name": "ipython",
    "version": 3
   },
   "file_extension": ".py",
   "mimetype": "text/x-python",
   "name": "python",
   "nbconvert_exporter": "python",
   "pygments_lexer": "ipython3",
   "version": "3.5.2"
  }
 },
 "nbformat": 4,
 "nbformat_minor": 2
}
