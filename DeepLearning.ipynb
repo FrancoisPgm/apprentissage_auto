{
 "cells": [
  {
   "cell_type": "markdown",
   "metadata": {},
   "source": [
    "# Apprentissage Automatique : BE 2 "
   ]
  },
  {
   "cell_type": "markdown",
   "metadata": {},
   "source": [
    "## Premier apprentissage"
   ]
  },
  {
   "cell_type": "code",
   "execution_count": 1,
   "metadata": {},
   "outputs": [],
   "source": [
    "import numpy as np\n",
    "import random\n",
    "from tqdm import tqdm\n",
    "import matplotlib.pyplot as plt\n",
    "from core import *"
   ]
  },
  {
   "cell_type": "code",
   "execution_count": 2,
   "metadata": {},
   "outputs": [],
   "source": [
    "np.random.seed(1) # pour que l'exécution soit déterministe\n",
    "\n",
    "# N est le nombre de données d'entrée\n",
    "# D_in est la dimension des données d'entrée\n",
    "# D_h le nombre de neurones de la couche cachée\n",
    "# D_out est la dimension de sortie (nombre de neurones de la couche de sortie\n",
    "\n",
    "N, D_in, D_h, D_out = 30, 2, 10, 3\n",
    "lr = 0.01 # learning rate"
   ]
  },
  {
   "cell_type": "code",
   "execution_count": 3,
   "metadata": {},
   "outputs": [
    {
     "name": "stderr",
     "output_type": "stream",
     "text": [
      "Learning...: 100%|██████████| 100000/100000 [00:06<00:00, 15439.63it/s]"
     ]
    },
    {
     "name": "stdout",
     "output_type": "stream",
     "text": [
      "Done !\n"
     ]
    },
    {
     "name": "stderr",
     "output_type": "stream",
     "text": [
      "\n"
     ]
    }
   ],
   "source": [
    "np.random.seed(1)\n",
    "lLoss=[]\n",
    "\n",
    "X = np.random.random((N, D_in))\n",
    "Y = np.random.random((N, D_out))\n",
    "\n",
    "\n",
    "'''Initialisation aléatoire des poids du réseau'''\n",
    "W1,b1=declareLayer(D_in,D_h)\n",
    "W2,b2=declareLayer(D_h,D_out)\n",
    "\n",
    "''' Learning '''\n",
    "\n",
    "for ii in tqdm(range(100000),desc='Learning...'):\n",
    "    '''Forward '''\n",
    "    O1 = forwardPass(X,W1,b1)\n",
    "    O2 = forwardPass(O1,W2,b2)\n",
    "    Y_pred = O2\n",
    "    \n",
    "    lLoss=printLoss(ii,lLoss,Y,Y_pred)\n",
    "\n",
    "    ''' Backprog ''' \n",
    "    l2_error,l2_delta=backProgLastLayer(Y,Y_pred)\n",
    "    l1_error,l1_delta=backProgHiddenLayer(l2_delta,W2,O1)\n",
    "\n",
    "    W2,b2,O1=updateLayer(l2_delta,O1,W2,b2,lr,bFirstLayer=False)\n",
    "    W1,b1,X=updateLayer(l1_delta,X,W1,b1,lr,bFirstLayer=True)\n",
    "    \n",
    "print('Done !')"
   ]
  },
  {
   "cell_type": "code",
   "execution_count": 4,
   "metadata": {},
   "outputs": [
    {
     "data": {
      "image/png": "[encoded data removed]",
      "text/plain": [
       "<matplotlib.figure.Figure at 0x7f3d7a1dbe80>"
      ]
     },
     "metadata": {},
     "output_type": "display_data"
    }
   ],
   "source": [
    "plt.figure(figsize=(12,8))\n",
    "plt.plot(lLoss,[250*ii for ii in range (len(lLoss))])\n",
    "plt.grid(True)\n",
    "plt.xlabel(\"Iterations\")\n",
    "plt.ylabel(\"Loss\")\n",
    "plt.show()"
   ]
  },
  {
   "cell_type": "markdown",
   "metadata": {},
   "source": [
    "## MNIST\n",
    "\n"
   ]
  },
  {
   "cell_type": "markdown",
   "metadata": {},
   "source": [
    "### Loading data"
   ]
  },
  {
   "cell_type": "code",
   "execution_count": 5,
   "metadata": {},
   "outputs": [],
   "source": [
    "from mnist import MNIST\n",
    "mdata = MNIST('MNIST-data')\n",
    "DataApp, LabelApp = mdata.load_training()\n",
    "DataTest, LabelTest = mdata.load_testing()"
   ]
  },
  {
   "cell_type": "code",
   "execution_count": 6,
   "metadata": {},
   "outputs": [],
   "source": [
    "DataApp=np.asarray(DataApp)\n",
    "LabelApp=np.asarray(LabelApp)\n",
    "DataTest=np.asarray(DataTest)\n",
    "LabelTest=np.asarray(LabelTest)"
   ]
  },
  {
   "cell_type": "code",
   "execution_count": 7,
   "metadata": {},
   "outputs": [
    {
     "data": {
      "text/plain": [
       "(60000, 784)"
      ]
     },
     "execution_count": 7,
     "metadata": {},
     "output_type": "execute_result"
    }
   ],
   "source": [
    "DataApp.shape"
   ]
  },
  {
   "cell_type": "code",
   "execution_count": 8,
   "metadata": {},
   "outputs": [],
   "source": [
    "def decoupage_donnees(dataApp,labelApp,ratio):\n",
    "    nr=int(ratio*dataApp.shape[0])\n",
    "    l=list(range(dataApp.shape[0]))\n",
    "    np.random.shuffle(l)\n",
    "\n",
    "    dataLearning=np.asarray([dataApp[l[ii]] for ii in range(nr)])\n",
    "    labelLearning=np.asarray([labelApp[l[ii]] for ii in range(nr)])\n",
    "    dataEval=np.asarray([dataApp[l[ii+nr]] for ii in range(dataApp.shape[0]-nr)])\n",
    "    labelEval=np.asarray([labelApp[l[ii+nr]] for ii in range(dataApp.shape[0]-nr)])\n",
    "    return dataLearning,labelLearning,dataEval,labelEval"
   ]
  },
  {
   "cell_type": "code",
   "execution_count": 9,
   "metadata": {},
   "outputs": [],
   "source": [
    "dataLearning,labelLearning,dataEval,labelEval=decoupage_donnees(DataApp,\n",
    "                                                                LabelApp,\n",
    "                                                                0.98)"
   ]
  },
  {
   "cell_type": "code",
   "execution_count": 10,
   "metadata": {},
   "outputs": [],
   "source": [
    "def makeGT(x):\n",
    "    z=np.zeros(10)\n",
    "    z[x]=1\n",
    "    return z"
   ]
  },
  {
   "cell_type": "code",
   "execution_count": 11,
   "metadata": {},
   "outputs": [],
   "source": [
    "labelEvalArray=np.asarray(list(map(lambda x : makeGT(x) ,labelEval.tolist())))"
   ]
  },
  {
   "cell_type": "code",
   "execution_count": 24,
   "metadata": {},
   "outputs": [],
   "source": [
    "dTest=DataTest[0:1200]\n",
    "lTest=LabelTest[0:1200]"
   ]
  },
  {
   "cell_type": "code",
   "execution_count": 13,
   "metadata": {},
   "outputs": [],
   "source": [
    "lTestArray=np.asarray(list(map(lambda x : makeGT(x) ,labelEval.tolist())))"
   ]
  },
  {
   "cell_type": "markdown",
   "metadata": {},
   "source": [
    "### Launching learning"
   ]
  },
  {
   "cell_type": "markdown",
   "metadata": {},
   "source": [
    "#### Loss functions"
   ]
  },
  {
   "cell_type": "code",
   "execution_count": 14,
   "metadata": {},
   "outputs": [],
   "source": [
    "def calcLoss(rawGT,guess):\n",
    "    return np.square(rawGT -guess).sum() / 2"
   ]
  },
  {
   "cell_type": "code",
   "execution_count": 15,
   "metadata": {},
   "outputs": [],
   "source": [
    "def calcSuccess(gt,guess):\n",
    "    test= gt==list(map(lambda x :np.argmax(x),guess))\n",
    "    rightGuesses=len(list(filter(lambda x: x,test)))/len(gt)\n",
    "    return rightGuesses"
   ]
  },
  {
   "cell_type": "markdown",
   "metadata": {},
   "source": [
    "#### Learning"
   ]
  },
  {
   "cell_type": "code",
   "execution_count": 16,
   "metadata": {},
   "outputs": [
    {
     "data": {
      "text/plain": [
       "(1200, 784)"
      ]
     },
     "execution_count": 16,
     "metadata": {},
     "output_type": "execute_result"
    }
   ],
   "source": [
    "dataEval.shape"
   ]
  },
  {
   "cell_type": "code",
   "execution_count": 17,
   "metadata": {},
   "outputs": [],
   "source": [
    "bashDataEval=dataEval.reshape(300,784,4)\n",
    "bashLabelEval=labelEval.reshape(300,4)\n",
    "bashLabelEvalArray=labelEvalArray.reshape(300,10,4)"
   ]
  },
  {
   "cell_type": "code",
   "execution_count": 18,
   "metadata": {},
   "outputs": [
    {
     "data": {
      "text/plain": [
       "(300, 784, 4)"
      ]
     },
     "execution_count": 18,
     "metadata": {},
     "output_type": "execute_result"
    }
   ],
   "source": [
    "bashDataEval.shape"
   ]
  },
  {
   "cell_type": "code",
   "execution_count": 19,
   "metadata": {},
   "outputs": [],
   "source": [
    "# N est le nombre de données d'entrée\n",
    "# D_in est la dimension des données d'entrée\n",
    "# D_h le nombre de neurones de la couche cachée\n",
    "# D_out est la dimension de sortie (nombre de neurones de la couche de sortie\n",
    "\n",
    "N=bashDataEval.shape[0]\n",
    "D_in=bashDataEval.shape[1]\n",
    "D_h=100\n",
    "D_out=10\n",
    "lr = 0.001"
   ]
  },
  {
   "cell_type": "code",
   "execution_count": 28,
   "metadata": {},
   "outputs": [
    {
     "name": "stderr",
     "output_type": "stream",
     "text": [
      "  0%|          | 0/5000 [00:00<?, ?it/s]/home/apopov/Documents/ECL/S9/apprentissageAuto/apprentissage_auto/core.py:7: RuntimeWarning: overflow encountered in exp\n",
      "  O = 1/(1+np.exp(-I))\n",
      "100%|██████████| 5000/5000 [04:03<00:00, 20.54it/s]\n"
     ]
    }
   ],
   "source": [
    "np.random.seed(1)\n",
    "lLearningLoss=[]\n",
    "lLearningSuccess=[]\n",
    "lEvalLoss=[]\n",
    "lEvalSuccess=[]\n",
    "lTestLoss=[]\n",
    "lTestSuccess=[]\n",
    "\n",
    "'''Initialisation aléatoire des poids du réseau'''\n",
    "W1,b1=declareLayer(D_in,D_h)\n",
    "W12,b12=declareLayer(D_h,D_h)\n",
    "W2,b2=declareLayer(D_h,D_out)\n",
    "\n",
    "''' Learning '''\n",
    "\n",
    "for ii in tqdm(range(5000)):\n",
    "        '''Forward '''\n",
    "        O1 = forwardPass(dataEval,W1,b1)\n",
    "        O12= forwardPass(,W12,b12)\n",
    "        O2 = forwardPass(O1,W2,b2)\n",
    "        \n",
    "        Y_pred = O2\n",
    "\n",
    "        if not ii % 250 :\n",
    "            lLearningLoss.append(calcLoss(labelEvalArray,Y_pred))\n",
    "            lLearningSuccess.append(calcSuccess(labelEval,Y_pred))\n",
    "            \n",
    "            O1Eval = forwardPass(dTest,W1,b1)\n",
    "            O2Eval = forwardPass(O1Eval,W2,b2)\n",
    "            Y_predEval = O2Eval\n",
    "            lEvalLoss.append(calcLoss(lTestArray,Y_predEval))\n",
    "            lEvalSuccess.append(calcSuccess(lTest,Y_predEval))\n",
    "\n",
    "        ''' Backprog ''' \n",
    "        l2_error,l2_delta=backProgLastLayer(labelEvalArray,Y_pred)\n",
    "        l1_error,l1_delta=backProgHiddenLayer(l2_delta,W2,O1)\n",
    "        \n",
    "\n",
    "        W2,b2,O1=updateLayer(l2_delta,O1,W2,b2,lr,bFirstLayer=False)\n",
    "        W1,b1,dataEval=updateLayer(l1_delta,dataEval,W1,b1,lr,bFirstLayer=True)"
   ]
  },
  {
   "cell_type": "code",
   "execution_count": 26,
   "metadata": {},
   "outputs": [
    {
     "data": {
      "image/png": "[encoded data removed]",
      "text/plain": [
       "<matplotlib.figure.Figure at 0x7f3d78d21a90>"
      ]
     },
     "metadata": {},
     "output_type": "display_data"
    }
   ],
   "source": [
    "absisse=[ 250 * ii for ii in range(len(lLearningLoss))]\n",
    "\n",
    "plt.figure(figsize=(12,8))\n",
    "plt.subplot(211)\n",
    "plt.plot(absisse,lLearningLoss)\n",
    "plt.xlabel('Iterations')\n",
    "plt.ylabel('Loss')\n",
    "plt.grid(True)\n",
    "\n",
    "plt.subplot(212)\n",
    "plt.grid(True)\n",
    "plt.plot(absisse,lLearningSuccess)\n",
    "plt.xlabel('Iterations')\n",
    "plt.ylabel('Success ratio')\n",
    "\n",
    "# plt.savefig('1LearningRate.png')"
   ]
  },
  {
   "cell_type": "code",
   "execution_count": 27,
   "metadata": {},
   "outputs": [
    {
     "data": {
      "image/png": "[encoded data removed]",
      "text/plain": [
       "<matplotlib.figure.Figure at 0x7f3d78cf45f8>"
      ]
     },
     "metadata": {},
     "output_type": "display_data"
    }
   ],
   "source": [
    "absisse=[ 250 * ii for ii in range(len(lEvalLoss))]\n",
    "\n",
    "plt.figure(figsize=(12,8))\n",
    "plt.subplot(211)\n",
    "plt.plot(absisse,lEvalLoss)\n",
    "plt.xlabel('Iterations')\n",
    "plt.ylabel('Loss')\n",
    "plt.grid(True)\n",
    "\n",
    "plt.subplot(212)\n",
    "plt.grid(True)\n",
    "plt.plot(lEvalSuccess)\n",
    "plt.xlabel('Iterations')\n",
    "plt.ylabel('Success ratio')\n",
    "# plt.savefig('1EvalRate')"
   ]
  },
  {
   "cell_type": "code",
   "execution_count": null,
   "metadata": {},
   "outputs": [],
   "source": []
  },
  {
   "cell_type": "code",
   "execution_count": null,
   "metadata": {},
   "outputs": [],
   "source": []
  },
  {
   "cell_type": "code",
   "execution_count": null,
   "metadata": {},
   "outputs": [],
   "source": []
  },
  {
   "cell_type": "code",
   "execution_count": null,
   "metadata": {},
   "outputs": [],
   "source": []
  }
 ],
 "metadata": {
  "kernelspec": {
   "display_name": "Python 2",
   "language": "python",
   "name": "python2"
  },
  "language_info": {
   "codemirror_mode": {
    "name": "ipython",
    "version": 3
   },
   "file_extension": ".py",
   "mimetype": "text/x-python",
   "name": "python",
   "nbconvert_exporter": "python",
   "pygments_lexer": "ipython3",
   "version": "3.5.2"
  }
 },
 "nbformat": 4,
 "nbformat_minor": 1
}
